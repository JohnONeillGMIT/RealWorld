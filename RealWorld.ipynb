{
 "cells": [
  {
   "cell_type": "markdown",
   "metadata": {},
   "source": [
    "### Real World"
   ]
  },
  {
   "cell_type": "markdown",
   "metadata": {
    "collapsed": true
   },
   "source": [
    "### Scenario\n",
    "\n",
    "I want to measure the \"On Time Delivery\" performance of delivery of Products to our customers to determine if we are hitting the commitments communicated at the time of ordering.\n",
    "\n",
    "* We ship 4 products : Cheap, Good, Better, Super\n",
    "* There is a manufacturing lead time target on each in days: 2, 3, 3, 4\n",
    "* We supply 5 countries: UK, Germany, France, Netherlands, Spain.\n",
    "* There is a logistics lead time target on each in days: 2, 4, 3, 3, 5\n",
    "* Target to hit \"On Time Delivery\" is to come in under Manufacturing + Logistics Lead time\n",
    "\n",
    "The idea is to determine how we are performing to the target Lead times promised\n",
    "Where we are off target what are the factors and do we need to change the commitments to the customer? \n"
   ]
  },
  {
   "cell_type": "markdown",
   "metadata": {},
   "source": [
    "### Creating the Dataset "
   ]
  },
  {
   "cell_type": "code",
   "execution_count": 2,
   "metadata": {},
   "outputs": [],
   "source": [
    "import numpy as np"
   ]
  },
  {
   "cell_type": "code",
   "execution_count": 26,
   "metadata": {},
   "outputs": [],
   "source": [
    "x=np.random.randint(-1,6,1000)\n",
    "# randn gives a normal distribution which is what i would expect here"
   ]
  },
  {
   "cell_type": "code",
   "execution_count": 25,
   "metadata": {},
   "outputs": [
    {
     "data": {
      "image/png": "[encoded data removed]",
      "text/plain": [
       "<matplotlib.figure.Figure at 0x2cd12090470>"
      ]
     },
     "metadata": {},
     "output_type": "display_data"
    }
   ],
   "source": [
    "import matplotlib.pyplot as plt\n",
    "% matplotlib inline\n",
    "plt.hist(x)\n",
    "plt.show()"
   ]
  },
  {
   "cell_type": "code",
   "execution_count": 30,
   "metadata": {},
   "outputs": [
    {
     "name": "stderr",
     "output_type": "stream",
     "text": [
      "C:\\ProgramData\\Anaconda3\\lib\\site-packages\\ipykernel_launcher.py:1: DeprecationWarning: This function is deprecated. Please call randint(1, 5 + 1) instead\n",
      "  \"\"\"Entry point for launching an IPython kernel.\n"
     ]
    },
    {
     "data": {
      "text/plain": [
       "4"
      ]
     },
     "execution_count": 30,
     "metadata": {},
     "output_type": "execute_result"
    }
   ],
   "source": [
    "np.random.random_integers(5)"
   ]
  },
  {
   "cell_type": "code",
   "execution_count": null,
   "metadata": {
    "collapsed": true
   },
   "outputs": [],
   "source": []
  },
  {
   "cell_type": "code",
   "execution_count": 56,
   "metadata": {},
   "outputs": [
    {
     "data": {
      "image/png": "[encoded data removed]",
      "text/plain": [
       "<matplotlib.figure.Figure at 0x2cd120bf240>"
      ]
     },
     "metadata": {},
     "output_type": "display_data"
    }
   ],
   "source": [
    "y=np.random.normal(0,2,200)\n",
    "y[y < 0] = 0 # need to manage the negatives\n",
    "#https://stackoverflow.com/questions/10335090/numpy-replace-negative-values-in-array\n",
    "plt.hist(y)\n",
    "plt.show()"
   ]
  },
  {
   "cell_type": "code",
   "execution_count": 54,
   "metadata": {},
   "outputs": [
    {
     "data": {
      "text/plain": [
       "array([  5.17704818e-01,   5.49511894e+00,   7.63318372e-02,\n",
       "         1.94805573e+00,  -9.58536234e-02,   1.86280720e+00,\n",
       "         2.72823798e+00,   3.25214224e+00,   7.27149564e+00,\n",
       "         2.54623668e+00,   3.51770133e+00,   4.21897096e+00,\n",
       "         3.77076874e+00,   4.07939986e+00,   2.64953652e+00,\n",
       "         4.95935455e+00,   4.10109809e+00,   1.02507984e+00,\n",
       "         1.81959654e+00,  -9.57223268e-02,   2.52123076e+00,\n",
       "         2.02944665e+00,   5.69387439e-01,   4.11669156e+00,\n",
       "         4.68088073e+00,   3.10102331e+00,   5.42236503e+00,\n",
       "         3.54050286e+00,   2.57930603e+00,   2.28309737e+00,\n",
       "         2.78877590e-01,   3.43834690e+00,   4.64533268e+00,\n",
       "         5.79799989e+00,  -3.16629527e-01,   5.43779337e-01,\n",
       "         7.16284847e-01,   3.46830614e+00,   2.80300256e+00,\n",
       "         4.22452562e+00,  -2.17689495e+00,   3.65271781e+00,\n",
       "        -1.91919808e+00,   1.65784792e+00,   4.53125850e+00,\n",
       "         1.28533769e+00,   3.66358629e+00,   2.37486075e+00,\n",
       "         1.39069210e+00,   5.44486248e+00,  -2.33972211e+00,\n",
       "         4.41679856e+00,   1.92488034e+00,   2.38869387e+00,\n",
       "        -8.42511013e-01,   2.58078949e+00,   2.59983627e+00,\n",
       "         4.95922828e+00,   1.12255111e+00,   6.45749642e+00,\n",
       "         1.36512477e+00,   1.04260186e+00,   4.20181001e+00,\n",
       "         3.56080301e+00,   2.94874578e+00,   1.87839676e-01,\n",
       "         8.50372580e-01,   2.07649965e+00,  -5.43428767e-02,\n",
       "         4.14536247e+00,   1.38994771e+00,   1.23183166e+00,\n",
       "         1.39966263e+00,   2.27098403e+00,   3.05411811e+00,\n",
       "         3.54498975e+00,   5.29946433e+00,   2.96536805e+00,\n",
       "         1.42334292e+00,   3.13756915e-03,   2.55711160e+00,\n",
       "         4.88671662e+00,   3.65663968e+00,   1.91384329e+00,\n",
       "         4.03660359e+00,   2.51216041e+00,   5.61259943e+00,\n",
       "         7.06235151e+00,  -1.33673508e+00,   4.18906895e+00,\n",
       "         4.42910982e+00,   4.45997523e+00,   7.22065330e+00,\n",
       "         6.18806394e+00,   2.77701566e+00,   2.65674392e+00,\n",
       "         5.11923257e-01,   4.01315289e+00,   9.26739228e-01,\n",
       "         2.29077512e+00,   6.50267368e+00,  -5.53937769e-01,\n",
       "         5.83082140e+00,   4.77668513e+00,  -1.94321701e+00,\n",
       "         1.50721338e+00,   2.30799764e+00,   1.85948763e+00,\n",
       "         4.72977360e+00,   4.73913317e+00,   4.29587176e+00,\n",
       "         4.12668625e+00,   2.19202500e+00,   1.22710644e+00,\n",
       "         4.16728942e+00,  -7.27217604e-01,   2.10646972e+00,\n",
       "         2.09583877e+00,   3.08741295e+00,   2.88289923e+00,\n",
       "         3.26590832e+00,   1.06780076e+00,   5.82192305e+00,\n",
       "         2.42540833e+00,   3.64312034e+00,   5.27811846e+00,\n",
       "         1.85423672e+00,   3.37759584e+00,   5.72652907e+00,\n",
       "         3.69341323e+00,   2.22970652e+00,   4.74408774e+00,\n",
       "         5.91223561e+00,   2.15312518e+00,   3.81713846e+00,\n",
       "         4.98638666e+00,   4.83099723e+00,   6.98797639e-01,\n",
       "         4.79720873e-01,   2.40851144e+00,   2.18100136e+00,\n",
       "         2.02443852e+00,   4.76546123e+00,  -9.67596553e-01,\n",
       "         3.48363698e+00,   3.11051740e-01,   7.26930963e-01,\n",
       "         3.51703986e+00,   1.94569983e+00,   2.08748720e+00,\n",
       "         7.67061060e-01,   2.49262139e+00,   1.39493723e+00,\n",
       "        -7.86036034e-01,   4.22748918e+00,   8.79107924e-01,\n",
       "         3.37528125e+00,   5.05278454e+00,   3.17889352e+00,\n",
       "         3.18365306e+00,   6.55096586e+00,   4.22451055e+00,\n",
       "         1.39864706e+00,   2.16458292e+00,   4.27885446e+00,\n",
       "         2.30108146e+00,  -1.33239343e+00,   1.96148537e+00,\n",
       "         4.66604567e+00,   4.08598042e+00,  -2.68615732e+00,\n",
       "         1.17127894e+00,   2.02955901e+00,   2.31376963e-01,\n",
       "         3.63458930e+00,   3.79593623e-01,   6.44361561e-01,\n",
       "         4.44188122e+00,   4.96016977e+00,   2.14121125e+00,\n",
       "         1.16476541e+00,   4.62899008e+00,   3.05900835e+00,\n",
       "         2.54009845e+00,   3.09962229e+00,   3.97729455e+00,\n",
       "         1.24803988e+00,   2.11215508e+00,   1.96633414e+00,\n",
       "         9.18203353e-01,   3.10978670e+00,   5.95230700e+00,\n",
       "         4.38295760e+00,   1.45747641e+00,   1.99028823e+00,\n",
       "         5.84817338e+00,   2.74172553e+00,   2.98093254e+00,\n",
       "         3.57885074e+00,   4.41083615e+00])"
      ]
     },
     "execution_count": 54,
     "metadata": {},
     "output_type": "execute_result"
    }
   ],
   "source": [
    "y"
   ]
  },
  {
   "cell_type": "code",
   "execution_count": null,
   "metadata": {
    "collapsed": true
   },
   "outputs": [],
   "source": []
  }
 ],
 "metadata": {
  "kernelspec": {
   "display_name": "Python 3",
   "language": "python",
   "name": "python3"
  },
  "language_info": {
   "codemirror_mode": {
    "name": "ipython",
    "version": 3
   },
   "file_extension": ".py",
   "mimetype": "text/x-python",
   "name": "python",
   "nbconvert_exporter": "python",
   "pygments_lexer": "ipython3",
   "version": "3.6.3"
  }
 },
 "nbformat": 4,
 "nbformat_minor": 2
}
