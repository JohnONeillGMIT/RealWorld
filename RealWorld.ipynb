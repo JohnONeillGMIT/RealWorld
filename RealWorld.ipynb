{
 "cells": [
  {
   "cell_type": "markdown",
   "metadata": {},
   "source": [
    "### Real World - Starting from Scratch!"
   ]
  },
  {
   "cell_type": "markdown",
   "metadata": {},
   "source": [
    "The purpose of this exercise is to investigate two things and check for correlation.\n",
    "1. The increase in levels of concussion in Sport - looking specifically at Rugby\n",
    "2. Increasing size of Rugby over the years since it went profreesional.\n",
    "\n",
    "https://www.irishtimes.com/sport/other-sports/increasing-size-of-players-behind-rise-of-concussion-in-sport-1.2041465 \n",
    "Th Irish Times article called out some interesting data in relation to Rugby presented in a report to the Oireachtas back in 2014 which linked the increasing size or player to an increase in concussion rates.\n",
    "\n",
    "- IRB figures show that over the last 15 years there has been, on average, a 10 per cent increase in player weight\n",
    "-  five per cent drop in the average time for the 10m sprint\n",
    "- average number of tackles in rugby has risen from 160 per match to 220\n",
    "\n",
    "https://www.theguardian.com/sport/2013/dec/14/rugby-union-concussion-medical-experts\n",
    "\n",
    "https://www.telegraph.co.uk/rugby-union/2016/03/02/big-hits-in-modern-rugby-are-turning-parents-off-the-game/\n",
    "\n",
    "\n",
    "\n",
    "\n",
    "http://edition.cnn.com/2014/05/27/sport/rugby-sporting-physique-compared/index.html?hpt=hp_c3\n",
    "\n",
    "\n",
    "ABSTRACTObjectives  To investigate the evolution of anthropometric characteristics in World Cup rugby players and identify elements associated with performance.Design  Age, weight and height were collected for 2692 World Cup rugby players as well as rankings in each World Cup, and collective experience of winners, ﬁ nalists, semiﬁ nalists and quarter ﬁ nalists in comparison to the rest of the competitors. Anthropometric parameters were compared according to age and position (back and forwards).Results  From 1987 to 2007, forwards and backs have become heavier by 6.63 and 6.68 kg and taller by 0.61 and 1.09 cm, respectively. The collective experience of the forwards’ pack is a value increasing with the ﬁ nal ranking attained, as well as the weight of forwards and the height of backs.Conclusions  For all Rugby World Cups, the highest performing teams have the tallest backs and heaviest forwards with the highest percentage of collective \n",
    "\n",
    "(PDF) How they won Rugby World Cup through height, mass and collective experience. Available from: https://www.researchgate.net/publication/221846203_How_they_won_Rugby_World_Cup_through_height_mass_and_collective_experience [accessed Dec 13 2018].\n",
    "https://www.researchgate.net/publication/221846203_How_they_won_Rugby_World_Cup_through_height_mass_and_collective_experience\n",
    "\n",
    "\n"
   ]
  },
  {
   "cell_type": "markdown",
   "metadata": {},
   "source": [
    "### Scenario\n",
    "I want to measure the \"On Time Delivery\" performance of delivery of Products to our customers to determine if we are hitting the commitments communicated at the time of ordering.\n",
    "\n",
    "Where we are missing the customer commit - where are we missing and what are the root causes.\n",
    "\n",
    "We ship 4 product offerings : LowEnd, Good, Better, Super\n",
    "There is a manufacturing lead time target on each in days: 2, 3, 3, 4\n",
    "We supply 5 countries: UK, Germany, France, Netherlands, Spain.\n",
    "There is a logistics lead time target on each in days: 2, 4, 3, 3, 5\n",
    "Target to hit \"On Time Delivery\" is to come in under Manufacturing + Logistics Lead time\n",
    "The idea is to determine how we are performing to the target Lead times promised Where we are off target what are the factors and do we need to change the commitments to the customer?"
   ]
  },
  {
   "cell_type": "markdown",
   "metadata": {},
   "source": [
    "### Creating the Dataset "
   ]
  },
  {
   "cell_type": "markdown",
   "metadata": {},
   "source": [
    "https://www.youtube.com/watch?v=hUes6y2b--0"
   ]
  },
  {
   "cell_type": "code",
   "execution_count": 84,
   "metadata": {
    "collapsed": true
   },
   "outputs": [],
   "source": [
    "import numpy as np\n",
    "import matplotlib.pyplot as plt\n",
    "% matplotlib inline\n",
    "import pandas as pd\n",
    "import seaborn as sns"
   ]
  },
  {
   "cell_type": "code",
   "execution_count": 85,
   "metadata": {},
   "outputs": [],
   "source": [
    "df= pd.read_csv(r\"C:\\Users\\john_j_o'neill\\RealWorld\\RealWorld\\munster.csv\")"
   ]
  },
  {
   "cell_type": "code",
   "execution_count": 92,
   "metadata": {},
   "outputs": [
    {
     "data": {
      "text/plain": [
       "<matplotlib.axes._subplots.AxesSubplot at 0x1fefd383c88>"
      ]
     },
     "execution_count": 92,
     "metadata": {},
     "output_type": "execute_result"
    },
    {
     "data": {
      "image/png": "[encoded data removed]",
      "text/plain": [
       "<matplotlib.figure.Figure at 0x1fefdeea470>"
      ]
     },
     "metadata": {},
     "output_type": "display_data"
    }
   ],
   "source": [
    "plt.figure(figsize=(12, 7))#setting plot size\n",
    "sns.barplot(x=\"Weight\",y=\"Position\",hue=\"Year\",data=df) #seaborn boxplot calling on one variable in x axis for Height"
   ]
  },
  {
   "cell_type": "markdown",
   "metadata": {},
   "source": [
    "### Creating a Dataframe\n",
    "\n",
    "Using this as a refernece point and study aid\n",
    "https://pandas.pydata.org/pandas-docs/stable/10min.html#object-creation"
   ]
  },
  {
   "cell_type": "markdown",
   "metadata": {},
   "source": [
    "Initally creating an empty Dataframe which will be populated using the numpy.random library to generate data and populate the columns."
   ]
  },
  {
   "cell_type": "markdown",
   "metadata": {},
   "source": [
    "In order to simulate the required data a number of steps are to be folloed initially.\n",
    "1. Create an empty Dataframe of 500 sample size\n",
    "2. Populate each column with generated data to build a table to be used later to investigate the dataset."
   ]
  },
  {
   "cell_type": "code",
   "execution_count": 58,
   "metadata": {},
   "outputs": [
    {
     "data": {
      "text/html": [
       "<div>\n",
       "<style>\n",
       "    .dataframe thead tr:only-child th {\n",
       "        text-align: right;\n",
       "    }\n",
       "\n",
       "    .dataframe thead th {\n",
       "        text-align: left;\n",
       "    }\n",
       "\n",
       "    .dataframe tbody tr th {\n",
       "        vertical-align: top;\n",
       "    }\n",
       "</style>\n",
       "<table border=\"1\" class=\"dataframe\">\n",
       "  <thead>\n",
       "    <tr style=\"text-align: right;\">\n",
       "      <th></th>\n",
       "      <th>Product</th>\n",
       "      <th>Country</th>\n",
       "      <th>MLT</th>\n",
       "      <th>LLT</th>\n",
       "    </tr>\n",
       "  </thead>\n",
       "  <tbody>\n",
       "    <tr>\n",
       "      <th>1</th>\n",
       "      <td>NaN</td>\n",
       "      <td>NaN</td>\n",
       "      <td>NaN</td>\n",
       "      <td>NaN</td>\n",
       "    </tr>\n",
       "    <tr>\n",
       "      <th>2</th>\n",
       "      <td>NaN</td>\n",
       "      <td>NaN</td>\n",
       "      <td>NaN</td>\n",
       "      <td>NaN</td>\n",
       "    </tr>\n",
       "    <tr>\n",
       "      <th>3</th>\n",
       "      <td>NaN</td>\n",
       "      <td>NaN</td>\n",
       "      <td>NaN</td>\n",
       "      <td>NaN</td>\n",
       "    </tr>\n",
       "  </tbody>\n",
       "</table>\n",
       "</div>"
      ],
      "text/plain": [
       "  Product Country  MLT  LLT\n",
       "1     NaN     NaN  NaN  NaN\n",
       "2     NaN     NaN  NaN  NaN\n",
       "3     NaN     NaN  NaN  NaN"
      ]
     },
     "execution_count": 58,
     "metadata": {},
     "output_type": "execute_result"
    }
   ],
   "source": [
    "df = pd.DataFrame(columns=['Product','Country','MLT','LLT'],index=range(1,200))\n",
    "df.head(3)\n",
    "#https://cmdlinetips.com/2018/01/how-to-create-pandas-dataframe-from-multiple-lists/"
   ]
  },
  {
   "cell_type": "markdown",
   "metadata": {},
   "source": [
    "The \"Product\" selection is split accross the portfolio in accordance with the probability of that particular product being ordered. EG 15% likelihood that \"LowEnd\" will be ordered."
   ]
  },
  {
   "cell_type": "code",
   "execution_count": 59,
   "metadata": {},
   "outputs": [
    {
     "data": {
      "text/html": [
       "<div>\n",
       "<style>\n",
       "    .dataframe thead tr:only-child th {\n",
       "        text-align: right;\n",
       "    }\n",
       "\n",
       "    .dataframe thead th {\n",
       "        text-align: left;\n",
       "    }\n",
       "\n",
       "    .dataframe tbody tr th {\n",
       "        vertical-align: top;\n",
       "    }\n",
       "</style>\n",
       "<table border=\"1\" class=\"dataframe\">\n",
       "  <thead>\n",
       "    <tr style=\"text-align: right;\">\n",
       "      <th></th>\n",
       "      <th>Product</th>\n",
       "      <th>Country</th>\n",
       "      <th>MLT</th>\n",
       "      <th>LLT</th>\n",
       "    </tr>\n",
       "  </thead>\n",
       "  <tbody>\n",
       "    <tr>\n",
       "      <th>1</th>\n",
       "      <td>Better</td>\n",
       "      <td>NaN</td>\n",
       "      <td>NaN</td>\n",
       "      <td>NaN</td>\n",
       "    </tr>\n",
       "    <tr>\n",
       "      <th>2</th>\n",
       "      <td>Good</td>\n",
       "      <td>NaN</td>\n",
       "      <td>NaN</td>\n",
       "      <td>NaN</td>\n",
       "    </tr>\n",
       "    <tr>\n",
       "      <th>3</th>\n",
       "      <td>Best</td>\n",
       "      <td>NaN</td>\n",
       "      <td>NaN</td>\n",
       "      <td>NaN</td>\n",
       "    </tr>\n",
       "    <tr>\n",
       "      <th>4</th>\n",
       "      <td>LowEnd</td>\n",
       "      <td>NaN</td>\n",
       "      <td>NaN</td>\n",
       "      <td>NaN</td>\n",
       "    </tr>\n",
       "    <tr>\n",
       "      <th>5</th>\n",
       "      <td>Good</td>\n",
       "      <td>NaN</td>\n",
       "      <td>NaN</td>\n",
       "      <td>NaN</td>\n",
       "    </tr>\n",
       "  </tbody>\n",
       "</table>\n",
       "</div>"
      ],
      "text/plain": [
       "  Product Country  MLT  LLT\n",
       "1  Better     NaN  NaN  NaN\n",
       "2    Good     NaN  NaN  NaN\n",
       "3    Best     NaN  NaN  NaN\n",
       "4  LowEnd     NaN  NaN  NaN\n",
       "5    Good     NaN  NaN  NaN"
      ]
     },
     "execution_count": 59,
     "metadata": {},
     "output_type": "execute_result"
    }
   ],
   "source": [
    "prod=pd.Categorical([\"LowEnd\",\"Good\",\"Better\",\"Best\"])\n",
    "np.random.seed()\n",
    "df['Product'] = np.random.choice(list(prod),len(df),p=[0.15,0.35,0.30,0.20])\n",
    "df.head(5)"
   ]
  },
  {
   "cell_type": "code",
   "execution_count": 60,
   "metadata": {},
   "outputs": [
    {
     "data": {
      "text/html": [
       "<div>\n",
       "<style>\n",
       "    .dataframe thead tr:only-child th {\n",
       "        text-align: right;\n",
       "    }\n",
       "\n",
       "    .dataframe thead th {\n",
       "        text-align: left;\n",
       "    }\n",
       "\n",
       "    .dataframe tbody tr th {\n",
       "        vertical-align: top;\n",
       "    }\n",
       "</style>\n",
       "<table border=\"1\" class=\"dataframe\">\n",
       "  <thead>\n",
       "    <tr style=\"text-align: right;\">\n",
       "      <th></th>\n",
       "      <th>Product</th>\n",
       "      <th>Country</th>\n",
       "      <th>MLT</th>\n",
       "      <th>LLT</th>\n",
       "    </tr>\n",
       "  </thead>\n",
       "  <tbody>\n",
       "    <tr>\n",
       "      <th>1</th>\n",
       "      <td>Better</td>\n",
       "      <td>Netherlands</td>\n",
       "      <td>NaN</td>\n",
       "      <td>NaN</td>\n",
       "    </tr>\n",
       "    <tr>\n",
       "      <th>2</th>\n",
       "      <td>Good</td>\n",
       "      <td>France</td>\n",
       "      <td>NaN</td>\n",
       "      <td>NaN</td>\n",
       "    </tr>\n",
       "    <tr>\n",
       "      <th>3</th>\n",
       "      <td>Best</td>\n",
       "      <td>UK</td>\n",
       "      <td>NaN</td>\n",
       "      <td>NaN</td>\n",
       "    </tr>\n",
       "    <tr>\n",
       "      <th>4</th>\n",
       "      <td>LowEnd</td>\n",
       "      <td>France</td>\n",
       "      <td>NaN</td>\n",
       "      <td>NaN</td>\n",
       "    </tr>\n",
       "    <tr>\n",
       "      <th>5</th>\n",
       "      <td>Good</td>\n",
       "      <td>France</td>\n",
       "      <td>NaN</td>\n",
       "      <td>NaN</td>\n",
       "    </tr>\n",
       "  </tbody>\n",
       "</table>\n",
       "</div>"
      ],
      "text/plain": [
       "  Product      Country  MLT  LLT\n",
       "1  Better  Netherlands  NaN  NaN\n",
       "2    Good       France  NaN  NaN\n",
       "3    Best           UK  NaN  NaN\n",
       "4  LowEnd       France  NaN  NaN\n",
       "5    Good       France  NaN  NaN"
      ]
     },
     "execution_count": 60,
     "metadata": {},
     "output_type": "execute_result"
    }
   ],
   "source": [
    "countries = {\"UK\", \"Germany\", \"France\", \"Netherlands\", \"Spain\"}\n",
    "df['Country'] = np.random.choice(list(countries), len(df))\n",
    "df.head(5)"
   ]
  },
  {
   "cell_type": "code",
   "execution_count": 61,
   "metadata": {},
   "outputs": [
    {
     "data": {
      "image/png": "[encoded data removed]",
      "text/plain": [
       "<matplotlib.figure.Figure at 0x1fefcffaef0>"
      ]
     },
     "metadata": {},
     "output_type": "display_data"
    }
   ],
   "source": [
    "# Randomly select a list of Products Sold (restricted by setting probability)\n",
    "#Product=[\"LowEnd\",\"Good\",\"Better\",\"Best\"]\n",
    "#x=np.random.choice(Product,500,p=[0.15,0.35,0.30,0.20]) #p sets the probability\n",
    "#np.random.seed(124)\n",
    "plt.hist(prod)\n",
    "plt.show()\n",
    "\n"
   ]
  },
  {
   "cell_type": "markdown",
   "metadata": {
    "collapsed": true
   },
   "source": [
    "    ### Using Date Time as an Index converts the entire Dataframe into a TIme Series. date range gives a series of time stamps.\n",
    "    https://campus.datacamp.com/courses/manipulating-time-series-data-in-python/working-with-time-series-in-pandas?ex=1"
   ]
  },
  {
   "cell_type": "code",
   "execution_count": 62,
   "metadata": {
    "collapsed": true
   },
   "outputs": [],
   "source": [
    "# index creation\n",
    "ind= pd.date_range(start=\"29-09-2018\", periods=25,freq=\"D\")"
   ]
  },
  {
   "cell_type": "code",
   "execution_count": 63,
   "metadata": {
    "scrolled": true
   },
   "outputs": [
    {
     "data": {
      "text/plain": [
       "DatetimeIndex(['2018-09-29', '2018-09-30', '2018-10-01', '2018-10-02',\n",
       "               '2018-10-03', '2018-10-04', '2018-10-05', '2018-10-06',\n",
       "               '2018-10-07', '2018-10-08', '2018-10-09', '2018-10-10',\n",
       "               '2018-10-11', '2018-10-12', '2018-10-13', '2018-10-14',\n",
       "               '2018-10-15', '2018-10-16', '2018-10-17', '2018-10-18',\n",
       "               '2018-10-19', '2018-10-20', '2018-10-21', '2018-10-22',\n",
       "               '2018-10-23'],\n",
       "              dtype='datetime64[ns]', freq='D')"
      ]
     },
     "execution_count": 63,
     "metadata": {},
     "output_type": "execute_result"
    }
   ],
   "source": [
    "ind"
   ]
  },
  {
   "cell_type": "code",
   "execution_count": 64,
   "metadata": {},
   "outputs": [
    {
     "ename": "SyntaxError",
     "evalue": "can't assign to function call (<ipython-input-64-e703d0fbf793>, line 1)",
     "output_type": "error",
     "traceback": [
      "\u001b[1;36m  File \u001b[1;32m\"<ipython-input-64-e703d0fbf793>\"\u001b[1;36m, line \u001b[1;32m1\u001b[0m\n\u001b[1;33m    df['Order_Date']= np.random.poisson(2,len(ind)),index=(ind)\u001b[0m\n\u001b[1;37m                     ^\u001b[0m\n\u001b[1;31mSyntaxError\u001b[0m\u001b[1;31m:\u001b[0m can't assign to function call\n"
     ]
    }
   ],
   "source": [
    "df['Order_Date']=np.random.poisson(2,len(ind)),index=(ind)\n",
    "df.head(3)"
   ]
  },
  {
   "cell_type": "markdown",
   "metadata": {},
   "source": [
    "to add a new column to the dataframe just do\n",
    "df[\"header\"]= pd... whatever (df[\",,,,\"])"
   ]
  },
  {
   "cell_type": "code",
   "execution_count": 10,
   "metadata": {},
   "outputs": [
    {
     "ename": "AttributeError",
     "evalue": "module 'numpy.random' has no attribute 'int'",
     "output_type": "error",
     "traceback": [
      "\u001b[1;31m---------------------------------------------------------------------------\u001b[0m",
      "\u001b[1;31mAttributeError\u001b[0m                            Traceback (most recent call last)",
      "\u001b[1;32m<ipython-input-10-7e39e33fb985>\u001b[0m in \u001b[0;36m<module>\u001b[1;34m()\u001b[0m\n\u001b[1;32m----> 1\u001b[1;33m \u001b[0mdf\u001b[0m\u001b[1;33m[\u001b[0m\u001b[1;34m\"Order_Number\"\u001b[0m\u001b[1;33m]\u001b[0m\u001b[1;33m=\u001b[0m\u001b[0mnp\u001b[0m\u001b[1;33m.\u001b[0m\u001b[0mrandom\u001b[0m\u001b[1;33m.\u001b[0m\u001b[0mint\u001b[0m\u001b[1;33m\u001b[0m\u001b[0m\n\u001b[0m",
      "\u001b[1;31mAttributeError\u001b[0m: module 'numpy.random' has no attribute 'int'"
     ]
    }
   ],
   "source": [
    "df[\"Order_Number\"]=np.random.int"
   ]
  },
  {
   "cell_type": "markdown",
   "metadata": {},
   "source": [
    "https://math.stackexchange.com/questions/1335829/default-positive-non-negative-probability-distribution\n",
    "Similarly, SAT (and other) exam scores are sometimes described as normal, totally ignoring the minuscule probability that would correspond to nonexistent negative scores.\n",
    "\n",
    "The gamma family of distributions places all its probability on the positive half-line. Gamma distributions are right-skewed with mode < median < mean. The shape is governed by a shape parameter.\n",
    "\n",
    "Exponential distributions are members of this family with shape parameter 1; strongly skewed with no left sided tail. For larger shape parameters the distribution has a left sided tail and a somewhat more pronounced right sided tail. See graphs of various gamma densities in the Wikipedia article. (A scale or rate parameter helps to determine the variance of a gamma distribution.)\n",
    "\n",
    "Gamma distributions are used to model waiting times, and many other phenomena in social, biological, and physical sciences. The gamma family of distributions is not as widely used as the normal family, but if any family of continuous distributions can be described as the 'default' non-negative family, the gamma family would be the prime candidate.\n",
    "\n",
    "In queueing theory (concerned with the behavior of waiting lines), gamma distributions with integer shape parameters are called Erlang distributions. The chi-squared family is another sub-family of gamma.\n",
    "\n",
    "A few other particularly useful continuous non-negative families, among many, are the lognormal (taking logs of data produces normality), Weibull, Rayleigh and Pareto. (Also discussed in Wikipedia articles.)"
   ]
  },
  {
   "cell_type": "markdown",
   "metadata": {
    "collapsed": true
   },
   "source": [
    "Now I want to associate the Target Leadtime Days to both the Product MT and LLT - I am doing this using the map function....  \"Pandas’ map function lets you add a new column with values from a dictionary if the data frame has a column matching the keys in the dictionary\" http://cmdlinetips.com/2018/01/how-to-add-a-new-column-to-using-a-dictionary-in-pandas-data-frame/"
   ]
  },
  {
   "cell_type": "code",
   "execution_count": 65,
   "metadata": {},
   "outputs": [
    {
     "data": {
      "text/html": [
       "<div>\n",
       "<style>\n",
       "    .dataframe thead tr:only-child th {\n",
       "        text-align: right;\n",
       "    }\n",
       "\n",
       "    .dataframe thead th {\n",
       "        text-align: left;\n",
       "    }\n",
       "\n",
       "    .dataframe tbody tr th {\n",
       "        vertical-align: top;\n",
       "    }\n",
       "</style>\n",
       "<table border=\"1\" class=\"dataframe\">\n",
       "  <thead>\n",
       "    <tr style=\"text-align: right;\">\n",
       "      <th></th>\n",
       "      <th>Product</th>\n",
       "      <th>Country</th>\n",
       "      <th>MLT</th>\n",
       "      <th>LLT</th>\n",
       "      <th>Total Target LT</th>\n",
       "    </tr>\n",
       "  </thead>\n",
       "  <tbody>\n",
       "    <tr>\n",
       "      <th>1</th>\n",
       "      <td>Better</td>\n",
       "      <td>Netherlands</td>\n",
       "      <td>5</td>\n",
       "      <td>3</td>\n",
       "      <td>8</td>\n",
       "    </tr>\n",
       "    <tr>\n",
       "      <th>2</th>\n",
       "      <td>Good</td>\n",
       "      <td>France</td>\n",
       "      <td>3</td>\n",
       "      <td>3</td>\n",
       "      <td>6</td>\n",
       "    </tr>\n",
       "    <tr>\n",
       "      <th>3</th>\n",
       "      <td>Best</td>\n",
       "      <td>UK</td>\n",
       "      <td>6</td>\n",
       "      <td>2</td>\n",
       "      <td>8</td>\n",
       "    </tr>\n",
       "    <tr>\n",
       "      <th>4</th>\n",
       "      <td>LowEnd</td>\n",
       "      <td>France</td>\n",
       "      <td>2</td>\n",
       "      <td>3</td>\n",
       "      <td>5</td>\n",
       "    </tr>\n",
       "    <tr>\n",
       "      <th>5</th>\n",
       "      <td>Good</td>\n",
       "      <td>France</td>\n",
       "      <td>3</td>\n",
       "      <td>3</td>\n",
       "      <td>6</td>\n",
       "    </tr>\n",
       "  </tbody>\n",
       "</table>\n",
       "</div>"
      ],
      "text/plain": [
       "  Product      Country  MLT  LLT  Total Target LT\n",
       "1  Better  Netherlands    5    3                8\n",
       "2    Good       France    3    3                6\n",
       "3    Best           UK    6    2                8\n",
       "4  LowEnd       France    2    3                5\n",
       "5    Good       France    3    3                6"
      ]
     },
     "execution_count": 65,
     "metadata": {},
     "output_type": "execute_result"
    }
   ],
   "source": [
    "#Using map function\n",
    "#Aligning the Product Offering to its associated Target Leadtime\n",
    "MLT_Target={\"LowEnd\":2,\"Good\":3,\"Better\":5,\"Best\":6}\n",
    "df['MLT']= df['Product'].map(MLT_Target)\n",
    "# Aligning the Product Offering to its associated Target Leadtime\n",
    "LLT_Target={\"UK\":2, \"Germany\":4, \"France\":3, \"Netherlands\":3, \"Spain\":5}\n",
    "df['LLT']= df['Country'].map(LLT_Target)\n",
    "df['Total Target LT'] = (df.MLT + df.LLT)\n",
    "df.head()"
   ]
  },
  {
   "cell_type": "code",
   "execution_count": 73,
   "metadata": {},
   "outputs": [
    {
     "data": {
      "text/plain": [
       "<matplotlib.axes._subplots.AxesSubplot at 0x1fefd2e7f98>"
      ]
     },
     "execution_count": 73,
     "metadata": {},
     "output_type": "execute_result"
    },
    {
     "data": {
      "image/png": "[encoded data removed]",
      "text/plain": [
       "<matplotlib.figure.Figure at 0x1fefd0f63c8>"
      ]
     },
     "metadata": {},
     "output_type": "display_data"
    }
   ],
   "source": [
    "df.plot.hist(x='Product',y='Total Target LT')"
   ]
  },
  {
   "cell_type": "markdown",
   "metadata": {},
   "source": [
    "In order to ensure I get a positive vlaue for the random selection of Manufacturing and Logistic LTs I decided between the Poissin and Gamma distribution. In this case the gamma distribution is used"
   ]
  },
  {
   "cell_type": "code",
   "execution_count": 11,
   "metadata": {},
   "outputs": [
    {
     "data": {
      "text/html": [
       "<div>\n",
       "<style>\n",
       "    .dataframe thead tr:only-child th {\n",
       "        text-align: right;\n",
       "    }\n",
       "\n",
       "    .dataframe thead th {\n",
       "        text-align: left;\n",
       "    }\n",
       "\n",
       "    .dataframe tbody tr th {\n",
       "        vertical-align: top;\n",
       "    }\n",
       "</style>\n",
       "<table border=\"1\" class=\"dataframe\">\n",
       "  <thead>\n",
       "    <tr style=\"text-align: right;\">\n",
       "      <th></th>\n",
       "      <th>Product</th>\n",
       "      <th>Country</th>\n",
       "      <th>MLT</th>\n",
       "      <th>LLT</th>\n",
       "      <th>Total Target LT</th>\n",
       "      <th>Actual_MLT</th>\n",
       "    </tr>\n",
       "  </thead>\n",
       "  <tbody>\n",
       "    <tr>\n",
       "      <th>1</th>\n",
       "      <td>LowEnd</td>\n",
       "      <td>Netherlands</td>\n",
       "      <td>2</td>\n",
       "      <td>3</td>\n",
       "      <td>5</td>\n",
       "      <td>4.523256</td>\n",
       "    </tr>\n",
       "    <tr>\n",
       "      <th>2</th>\n",
       "      <td>Better</td>\n",
       "      <td>Spain</td>\n",
       "      <td>5</td>\n",
       "      <td>5</td>\n",
       "      <td>10</td>\n",
       "      <td>1.141025</td>\n",
       "    </tr>\n",
       "    <tr>\n",
       "      <th>3</th>\n",
       "      <td>Better</td>\n",
       "      <td>Netherlands</td>\n",
       "      <td>5</td>\n",
       "      <td>3</td>\n",
       "      <td>8</td>\n",
       "      <td>1.104594</td>\n",
       "    </tr>\n",
       "  </tbody>\n",
       "</table>\n",
       "</div>"
      ],
      "text/plain": [
       "  Product      Country  MLT  LLT  Total Target LT  Actual_MLT\n",
       "1  LowEnd  Netherlands    2    3                5    4.523256\n",
       "2  Better        Spain    5    5               10    1.141025\n",
       "3  Better  Netherlands    5    3                8    1.104594"
      ]
     },
     "execution_count": 11,
     "metadata": {},
     "output_type": "execute_result"
    }
   ],
   "source": [
    "shape, scale = 2., 2.  # mean=4, std=2*sqrt(2)\n",
    "df['Actual_MLT'] = np.random.gamma(shape, scale, len(df))\n",
    "df.head(3)"
   ]
  },
  {
   "cell_type": "markdown",
   "metadata": {},
   "source": [
    "https://pandas.pydata.org/pandas-docs/version/0.23.4/generated/pandas.DataFrame.html\n"
   ]
  },
  {
   "cell_type": "code",
   "execution_count": 12,
   "metadata": {
    "collapsed": true
   },
   "outputs": [],
   "source": [
    "y=np.random.randint(-1,6,1000)\n",
    "# randn gives a normal distribution which is what i would expect here"
   ]
  },
  {
   "cell_type": "code",
   "execution_count": 13,
   "metadata": {},
   "outputs": [
    {
     "data": {
      "image/png": "[encoded data removed]",
      "text/plain": [
       "<matplotlib.figure.Figure at 0x176db67c8d0>"
      ]
     },
     "metadata": {},
     "output_type": "display_data"
    }
   ],
   "source": [
    "plt.hist(y)\n",
    "plt.show()"
   ]
  },
  {
   "cell_type": "code",
   "execution_count": 14,
   "metadata": {},
   "outputs": [
    {
     "name": "stderr",
     "output_type": "stream",
     "text": [
      "C:\\ProgramData\\Anaconda3\\lib\\site-packages\\ipykernel_launcher.py:1: DeprecationWarning: This function is deprecated. Please call randint(1, 5 + 1) instead\n",
      "  \"\"\"Entry point for launching an IPython kernel.\n"
     ]
    },
    {
     "data": {
      "text/plain": [
       "2"
      ]
     },
     "execution_count": 14,
     "metadata": {},
     "output_type": "execute_result"
    }
   ],
   "source": [
    "np.random.random_integers(5)"
   ]
  },
  {
   "cell_type": "code",
   "execution_count": null,
   "metadata": {
    "collapsed": true
   },
   "outputs": [],
   "source": [
    "y"
   ]
  },
  {
   "cell_type": "code",
   "execution_count": 49,
   "metadata": {},
   "outputs": [
    {
     "data": {
      "text/html": [
       "<div>\n",
       "<style>\n",
       "    .dataframe thead tr:only-child th {\n",
       "        text-align: right;\n",
       "    }\n",
       "\n",
       "    .dataframe thead th {\n",
       "        text-align: left;\n",
       "    }\n",
       "\n",
       "    .dataframe tbody tr th {\n",
       "        vertical-align: top;\n",
       "    }\n",
       "</style>\n",
       "<table border=\"1\" class=\"dataframe\">\n",
       "  <thead>\n",
       "    <tr style=\"text-align: right;\">\n",
       "      <th></th>\n",
       "      <th>0</th>\n",
       "    </tr>\n",
       "  </thead>\n",
       "  <tbody>\n",
       "    <tr>\n",
       "      <th>2018-09-29</th>\n",
       "      <td>-1.050170</td>\n",
       "    </tr>\n",
       "    <tr>\n",
       "      <th>2018-09-30</th>\n",
       "      <td>1.914906</td>\n",
       "    </tr>\n",
       "    <tr>\n",
       "      <th>2018-10-01</th>\n",
       "      <td>0.161341</td>\n",
       "    </tr>\n",
       "    <tr>\n",
       "      <th>2018-10-02</th>\n",
       "      <td>0.601803</td>\n",
       "    </tr>\n",
       "    <tr>\n",
       "      <th>2018-10-03</th>\n",
       "      <td>-1.429715</td>\n",
       "    </tr>\n",
       "    <tr>\n",
       "      <th>2018-10-04</th>\n",
       "      <td>-0.483708</td>\n",
       "    </tr>\n",
       "    <tr>\n",
       "      <th>2018-10-05</th>\n",
       "      <td>-0.456037</td>\n",
       "    </tr>\n",
       "    <tr>\n",
       "      <th>2018-10-06</th>\n",
       "      <td>-1.693302</td>\n",
       "    </tr>\n",
       "    <tr>\n",
       "      <th>2018-10-07</th>\n",
       "      <td>-0.031606</td>\n",
       "    </tr>\n",
       "    <tr>\n",
       "      <th>2018-10-08</th>\n",
       "      <td>-0.260151</td>\n",
       "    </tr>\n",
       "    <tr>\n",
       "      <th>2018-10-09</th>\n",
       "      <td>1.156723</td>\n",
       "    </tr>\n",
       "    <tr>\n",
       "      <th>2018-10-10</th>\n",
       "      <td>1.670868</td>\n",
       "    </tr>\n",
       "    <tr>\n",
       "      <th>2018-10-11</th>\n",
       "      <td>-0.228489</td>\n",
       "    </tr>\n",
       "    <tr>\n",
       "      <th>2018-10-12</th>\n",
       "      <td>0.604223</td>\n",
       "    </tr>\n",
       "    <tr>\n",
       "      <th>2018-10-13</th>\n",
       "      <td>2.230189</td>\n",
       "    </tr>\n",
       "    <tr>\n",
       "      <th>2018-10-14</th>\n",
       "      <td>0.876277</td>\n",
       "    </tr>\n",
       "    <tr>\n",
       "      <th>2018-10-15</th>\n",
       "      <td>0.748646</td>\n",
       "    </tr>\n",
       "    <tr>\n",
       "      <th>2018-10-16</th>\n",
       "      <td>0.915495</td>\n",
       "    </tr>\n",
       "    <tr>\n",
       "      <th>2018-10-17</th>\n",
       "      <td>0.977547</td>\n",
       "    </tr>\n",
       "    <tr>\n",
       "      <th>2018-10-18</th>\n",
       "      <td>0.452313</td>\n",
       "    </tr>\n",
       "    <tr>\n",
       "      <th>2018-10-19</th>\n",
       "      <td>0.487820</td>\n",
       "    </tr>\n",
       "    <tr>\n",
       "      <th>2018-10-20</th>\n",
       "      <td>0.444640</td>\n",
       "    </tr>\n",
       "    <tr>\n",
       "      <th>2018-10-21</th>\n",
       "      <td>-0.499148</td>\n",
       "    </tr>\n",
       "    <tr>\n",
       "      <th>2018-10-22</th>\n",
       "      <td>-0.416917</td>\n",
       "    </tr>\n",
       "    <tr>\n",
       "      <th>2018-10-23</th>\n",
       "      <td>0.490896</td>\n",
       "    </tr>\n",
       "  </tbody>\n",
       "</table>\n",
       "</div>"
      ],
      "text/plain": [
       "                   0\n",
       "2018-09-29 -1.050170\n",
       "2018-09-30  1.914906\n",
       "2018-10-01  0.161341\n",
       "2018-10-02  0.601803\n",
       "2018-10-03 -1.429715\n",
       "2018-10-04 -0.483708\n",
       "2018-10-05 -0.456037\n",
       "2018-10-06 -1.693302\n",
       "2018-10-07 -0.031606\n",
       "2018-10-08 -0.260151\n",
       "2018-10-09  1.156723\n",
       "2018-10-10  1.670868\n",
       "2018-10-11 -0.228489\n",
       "2018-10-12  0.604223\n",
       "2018-10-13  2.230189\n",
       "2018-10-14  0.876277\n",
       "2018-10-15  0.748646\n",
       "2018-10-16  0.915495\n",
       "2018-10-17  0.977547\n",
       "2018-10-18  0.452313\n",
       "2018-10-19  0.487820\n",
       "2018-10-20  0.444640\n",
       "2018-10-21 -0.499148\n",
       "2018-10-22 -0.416917\n",
       "2018-10-23  0.490896"
      ]
     },
     "execution_count": 49,
     "metadata": {},
     "output_type": "execute_result"
    }
   ],
   "source": [
    "df2"
   ]
  },
  {
   "cell_type": "code",
   "execution_count": null,
   "metadata": {
    "collapsed": true
   },
   "outputs": [],
   "source": []
  }
 ],
 "metadata": {
  "kernelspec": {
   "display_name": "Python 3",
   "language": "python",
   "name": "python3"
  },
  "language_info": {
   "codemirror_mode": {
    "name": "ipython",
    "version": 3
   },
   "file_extension": ".py",
   "mimetype": "text/x-python",
   "name": "python",
   "nbconvert_exporter": "python",
   "pygments_lexer": "ipython3",
   "version": "3.6.3"
  }
 },
 "nbformat": 4,
 "nbformat_minor": 2
}
